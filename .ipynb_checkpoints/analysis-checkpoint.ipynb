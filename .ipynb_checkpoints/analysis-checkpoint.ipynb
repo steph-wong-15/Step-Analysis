{
 "cells": [
  {
   "cell_type": "code",
   "execution_count": 7,
   "metadata": {},
   "outputs": [],
   "source": [
    "import pandas as pd\n",
    "import numpy as np\n",
    "import matplotlib.pyplot as plt\n",
    "import scipy.stats\n",
    "from scipy import stats, signal\n",
    "from scipy import fft"
   ]
  },
  {
   "cell_type": "code",
   "execution_count": 8,
   "metadata": {},
   "outputs": [],
   "source": [
    "data = pd.read_csv(\"data__1_.csv\")"
   ]
  },
  {
   "cell_type": "code",
   "execution_count": 9,
   "metadata": {},
   "outputs": [
    {
     "data": {
      "text/html": [
       "<div>\n",
       "<style scoped>\n",
       "    .dataframe tbody tr th:only-of-type {\n",
       "        vertical-align: middle;\n",
       "    }\n",
       "\n",
       "    .dataframe tbody tr th {\n",
       "        vertical-align: top;\n",
       "    }\n",
       "\n",
       "    .dataframe thead th {\n",
       "        text-align: right;\n",
       "    }\n",
       "</style>\n",
       "<table border=\"1\" class=\"dataframe\">\n",
       "  <thead>\n",
       "    <tr style=\"text-align: right;\">\n",
       "      <th></th>\n",
       "      <th>time</th>\n",
       "      <th>ax (m/s^2)</th>\n",
       "      <th>ay (m/s^2)</th>\n",
       "      <th>az (m/s^2)</th>\n",
       "      <th>aT (m/s^2)</th>\n",
       "    </tr>\n",
       "  </thead>\n",
       "  <tbody>\n",
       "    <tr>\n",
       "      <td>0</td>\n",
       "      <td>0.004810</td>\n",
       "      <td>0.0717</td>\n",
       "      <td>0.0073</td>\n",
       "      <td>-0.0041</td>\n",
       "      <td>0.072</td>\n",
       "    </tr>\n",
       "    <tr>\n",
       "      <td>1</td>\n",
       "      <td>0.005495</td>\n",
       "      <td>0.1182</td>\n",
       "      <td>-0.0615</td>\n",
       "      <td>0.0380</td>\n",
       "      <td>0.139</td>\n",
       "    </tr>\n",
       "    <tr>\n",
       "      <td>2</td>\n",
       "      <td>0.005909</td>\n",
       "      <td>0.1218</td>\n",
       "      <td>-0.0633</td>\n",
       "      <td>0.1131</td>\n",
       "      <td>0.178</td>\n",
       "    </tr>\n",
       "    <tr>\n",
       "      <td>3</td>\n",
       "      <td>0.006285</td>\n",
       "      <td>0.0778</td>\n",
       "      <td>-0.0080</td>\n",
       "      <td>0.0759</td>\n",
       "      <td>0.109</td>\n",
       "    </tr>\n",
       "    <tr>\n",
       "      <td>4</td>\n",
       "      <td>0.015850</td>\n",
       "      <td>0.0272</td>\n",
       "      <td>-0.0056</td>\n",
       "      <td>0.0438</td>\n",
       "      <td>0.052</td>\n",
       "    </tr>\n",
       "    <tr>\n",
       "      <td>...</td>\n",
       "      <td>...</td>\n",
       "      <td>...</td>\n",
       "      <td>...</td>\n",
       "      <td>...</td>\n",
       "      <td>...</td>\n",
       "    </tr>\n",
       "    <tr>\n",
       "      <td>43937</td>\n",
       "      <td>221.207737</td>\n",
       "      <td>0.1638</td>\n",
       "      <td>-0.1303</td>\n",
       "      <td>0.3099</td>\n",
       "      <td>0.374</td>\n",
       "    </tr>\n",
       "    <tr>\n",
       "      <td>43938</td>\n",
       "      <td>221.210373</td>\n",
       "      <td>0.2130</td>\n",
       "      <td>-0.1345</td>\n",
       "      <td>-0.3669</td>\n",
       "      <td>0.445</td>\n",
       "    </tr>\n",
       "    <tr>\n",
       "      <td>43939</td>\n",
       "      <td>221.215323</td>\n",
       "      <td>0.2621</td>\n",
       "      <td>-0.1871</td>\n",
       "      <td>-0.8219</td>\n",
       "      <td>0.883</td>\n",
       "    </tr>\n",
       "    <tr>\n",
       "      <td>43940</td>\n",
       "      <td>221.220376</td>\n",
       "      <td>0.1885</td>\n",
       "      <td>-0.2031</td>\n",
       "      <td>-1.0125</td>\n",
       "      <td>1.050</td>\n",
       "    </tr>\n",
       "    <tr>\n",
       "      <td>43941</td>\n",
       "      <td>221.225658</td>\n",
       "      <td>0.0286</td>\n",
       "      <td>-0.1559</td>\n",
       "      <td>-1.1336</td>\n",
       "      <td>1.145</td>\n",
       "    </tr>\n",
       "  </tbody>\n",
       "</table>\n",
       "<p>43942 rows × 5 columns</p>\n",
       "</div>"
      ],
      "text/plain": [
       "             time  ax (m/s^2)  ay (m/s^2)  az (m/s^2)  aT (m/s^2)\n",
       "0        0.004810      0.0717      0.0073     -0.0041       0.072\n",
       "1        0.005495      0.1182     -0.0615      0.0380       0.139\n",
       "2        0.005909      0.1218     -0.0633      0.1131       0.178\n",
       "3        0.006285      0.0778     -0.0080      0.0759       0.109\n",
       "4        0.015850      0.0272     -0.0056      0.0438       0.052\n",
       "...           ...         ...         ...         ...         ...\n",
       "43937  221.207737      0.1638     -0.1303      0.3099       0.374\n",
       "43938  221.210373      0.2130     -0.1345     -0.3669       0.445\n",
       "43939  221.215323      0.2621     -0.1871     -0.8219       0.883\n",
       "43940  221.220376      0.1885     -0.2031     -1.0125       1.050\n",
       "43941  221.225658      0.0286     -0.1559     -1.1336       1.145\n",
       "\n",
       "[43942 rows x 5 columns]"
      ]
     },
     "execution_count": 9,
     "metadata": {},
     "output_type": "execute_result"
    }
   ],
   "source": [
    "data"
   ]
  },
  {
   "cell_type": "code",
   "execution_count": null,
   "metadata": {},
   "outputs": [],
   "source": [
    "# plot the vector of the total acceleration against time\n",
    "f =  plt.figure()\n",
    "plt.xticks(rotation=25)\n",
    "plt.plot(data['time'], data['aT (m/s^2)'],'b.', alpha=0.5) \n",
    "plt.xlabel('Time')\n",
    "plt.ylabel('Acceleration Vector')\n",
    "plt.title('Acceleration vs Time')\n",
    "#plt.legend()\n",
    "plt.show()\n",
    "#f.savefig(\"figure1.png\")"
   ]
  },
  {
   "cell_type": "code",
   "execution_count": null,
   "metadata": {},
   "outputs": [],
   "source": [
    "# plot of accelerations in x, y, and z direction\n",
    "f1 =  plt.figure()\n",
    "plt.xticks(rotation=25)\n",
    "plt.plot(data['time'], data['ax (m/s^2)'],'b.', alpha=0.5, label=\"X\") \n",
    "plt.plot(data['time'], data['ay (m/s^2)'],'g.', alpha=0.5, label=\"Y\") \n",
    "plt.plot(data['time'], data['az (m/s^2)'],'r.', alpha=0.5, label=\"Z\") \n",
    "plt.xlabel('Time')\n",
    "plt.ylabel('Acceleration')\n",
    "plt.title('Acceleration vs Time')\n",
    "plt.legend()\n",
    "plt.show()\n",
    "#f1.savefig(\"figure1.png\")"
   ]
  },
  {
   "cell_type": "code",
   "execution_count": null,
   "metadata": {},
   "outputs": [],
   "source": [
    "# Low-pass Buttermore filter to get rid of high frequency random noise\n",
    "b,a = signal.butter(3, 0.1, btype='lowpass', analog=False)\n",
    "low_passed = signal.filtfilt(b, a, data['aT (m/s^2)'])\n",
    "\n",
    "fig, (ax1, ax2) = plt.subplots(2, 1, sharex=True)\n",
    "\n",
    "ax1.plot(data['time'], data['aT (m/s^2)'])\n",
    "ax1.set_title('Acceleration')\n",
    "ax1.axis([10, 15, -50, 50])\n",
    "\n",
    "ax2.plot(data['time'], filtered)\n",
    "ax2.set_title('Acceleration with Butterworth Filter')\n",
    "ax2.axis([10, 15, -50, 50])\n",
    "\n",
    "plt.tight_layout()\n",
    "plt.show()"
   ]
  },
  {
   "cell_type": "code",
   "execution_count": 20,
   "metadata": {},
   "outputs": [
    {
     "data": {
      "image/png": "[encoded data removed]",
      "text/plain": [
       "<Figure size 432x288 with 1 Axes>"
      ]
     },
     "metadata": {
      "needs_background": "light"
     },
     "output_type": "display_data"
    }
   ],
   "source": [
    "# fourier transform\n",
    "fft_a = fft(data['aT (m/s^2)'])\n",
    "f2 =  plt.figure()\n",
    "plt.xticks(rotation=25)\n",
    "plt.plot(data['time'], fft_a,'b', alpha=0.5, label=\"X\") \n",
    "plt.xlabel('Time')\n",
    "plt.axis([-5, 10, -100, 450000])\n",
    "plt.ylabel('')\n",
    "plt.title('FFT')\n",
    "plt.legend()\n",
    "plt.show()\n",
    "#f2.savefig(\"figure1.png\")"
   ]
  },
  {
   "cell_type": "code",
   "execution_count": null,
   "metadata": {},
   "outputs": [],
   "source": []
  },
  {
   "cell_type": "code",
   "execution_count": null,
   "metadata": {},
   "outputs": [],
   "source": []
  }
 ],
 "metadata": {
  "kernelspec": {
   "display_name": "Python 3",
   "language": "python",
   "name": "python3"
  },
  "language_info": {
   "codemirror_mode": {
    "name": "ipython",
    "version": 3
   },
   "file_extension": ".py",
   "mimetype": "text/x-python",
   "name": "python",
   "nbconvert_exporter": "python",
   "pygments_lexer": "ipython3",
   "version": "3.7.4"
  }
 },
 "nbformat": 4,
 "nbformat_minor": 5
}
